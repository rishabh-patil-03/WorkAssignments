{
 "cells": [
  {
   "cell_type": "code",
   "execution_count": 2,
   "id": "802a6392-a499-44e1-b011-a446670ed232",
   "metadata": {},
   "outputs": [
    {
     "name": "stdout",
     "output_type": "stream",
     "text": [
      "Object `language` not found.\n"
     ]
    }
   ],
   "source": [
    "1)Who devoloped Python Programming language?"
   ]
  },
  {
   "cell_type": "code",
   "execution_count": null,
   "id": "037a15d3-632d-4228-af60-60ab075f96e1",
   "metadata": {},
   "outputs": [],
   "source": [
    "Guido van Rossum created python"
   ]
  },
  {
   "cell_type": "code",
   "execution_count": null,
   "id": "c7cdd19a-c0ae-4586-ae57-02d1c7e0c765",
   "metadata": {},
   "outputs": [],
   "source": [
    "2)Which type of programming python supports?"
   ]
  },
  {
   "cell_type": "code",
   "execution_count": null,
   "id": "558fc33a-8028-4733-99ee-d8537b77909c",
   "metadata": {},
   "outputs": [],
   "source": [
    "Python supports\n",
    "a)Object oriented Programming\n",
    "b)structured programming"
   ]
  },
  {
   "cell_type": "code",
   "execution_count": null,
   "id": "175c292f-4624-41b9-9ef2-e1fabcda248c",
   "metadata": {},
   "outputs": [],
   "source": [
    "3)Is python case sensetive when dealing with identifiers?"
   ]
  },
  {
   "cell_type": "code",
   "execution_count": null,
   "id": "9946b9c4-74e5-4087-b8ef-8cb7a15a6636",
   "metadata": {},
   "outputs": [],
   "source": [
    "Yes Python is case sensetive when dealing with identifiers\n",
    "It treats uppercase and lowercase characters differently\n",
    "for Eg: \"Sudh\" and \"sudh\" are different\n",
    "The name of the identifier cannot begin with a number.\n",
    "The name of a Python identifier can begin with an underscore.\n",
    "The names of Python identifiers are case sensitive."
   ]
  },
  {
   "cell_type": "code",
   "execution_count": null,
   "id": "9fc5841f-e5f1-4fd4-90ea-8c2b49b49579",
   "metadata": {},
   "outputs": [],
   "source": [
    "4)What is the correct extension of the python file?"
   ]
  },
  {
   "cell_type": "code",
   "execution_count": null,
   "id": "f5af5e25-75a1-4d0a-a5e1-90f6cf40dc14",
   "metadata": {},
   "outputs": [],
   "source": [
    "Correct of python is .py"
   ]
  },
  {
   "cell_type": "code",
   "execution_count": null,
   "id": "6b5ffd1a-94ed-48da-bca7-e0ca4c41b8ba",
   "metadata": {},
   "outputs": [],
   "source": [
    "5) Is Python code compiled or interpreted?"
   ]
  },
  {
   "cell_type": "code",
   "execution_count": null,
   "id": "6859cf44-7620-4e4e-b412-7515755f7e03",
   "metadata": {},
   "outputs": [],
   "source": [
    "Python code is interpreted as source code of a Python program is \n",
    "converted into bytecode that is then executed by the Python \n",
    "virtual machine"
   ]
  },
  {
   "cell_type": "code",
   "execution_count": null,
   "id": "9e7a52c5-3838-42f8-bba7-0bb541b73218",
   "metadata": {},
   "outputs": [],
   "source": [
    "6) Name a few blocks of code used to define python language"
   ]
  },
  {
   "cell_type": "code",
   "execution_count": null,
   "id": "1231b887-0a28-4b53-8157-73f897aeec8b",
   "metadata": {},
   "outputs": [],
   "source": [
    "A Python program is constructed from code blocks. \n",
    "A block is a piece of Python program text that is executed \n",
    "as a unit. The following are blocks: \n",
    "a module, a function body, and a class definition.\n",
    "#Following is a code in python for addition\n",
    "a=3\n",
    "b=4\n",
    "c=a+b\n",
    "print(c)"
   ]
  },
  {
   "cell_type": "code",
   "execution_count": null,
   "id": "e35ff0f2-94aa-4a69-ab25-42abbabc0dd6",
   "metadata": {},
   "outputs": [],
   "source": [
    "7)State a character used to give single line comments in python"
   ]
  },
  {
   "cell_type": "code",
   "execution_count": null,
   "id": "caa805b6-fac1-4286-b2dc-8b18418cc599",
   "metadata": {},
   "outputs": [],
   "source": [
    "Hash charcter is used for single line comments(#)"
   ]
  },
  {
   "cell_type": "code",
   "execution_count": null,
   "id": "2d85d617-db47-44d5-a1f4-7b326355f51d",
   "metadata": {},
   "outputs": [],
   "source": [
    "8)mention functions which can help version of python we work on"
   ]
  },
  {
   "cell_type": "code",
   "execution_count": null,
   "id": "983befed-ffb4-4670-b213-b6e129cbc940",
   "metadata": {},
   "outputs": [],
   "source": [
    "The function sys. version can help us to find the version of python\n",
    "that we are currently working on."
   ]
  },
  {
   "cell_type": "code",
   "execution_count": null,
   "id": "e5d06122-c6b0-4665-9aa2-58e85e9f7a28",
   "metadata": {},
   "outputs": [],
   "source": [
    "9)python supports the creation of anonymous functions at runtime using construct called"
   ]
  },
  {
   "cell_type": "code",
   "execution_count": null,
   "id": "b810e50d-c2a7-439b-8811-37bc8c7f0503",
   "metadata": {},
   "outputs": [],
   "source": [
    "Python supports to make anonymous functions at runtime\n",
    "It uses a construct called lambda ."
   ]
  },
  {
   "cell_type": "code",
   "execution_count": null,
   "id": "bb93191b-0aa4-4d4f-be82-06c455a93862",
   "metadata": {},
   "outputs": [],
   "source": [
    "10)What does pip stand for?"
   ]
  },
  {
   "cell_type": "code",
   "execution_count": null,
   "id": "45ed8f32-33a6-426b-834c-3af02d3f504d",
   "metadata": {},
   "outputs": [],
   "source": [
    "Pip stands for Pip Install Packages"
   ]
  },
  {
   "cell_type": "code",
   "execution_count": null,
   "id": "554a204f-1b7b-48d4-b1ff-888b03ce3027",
   "metadata": {},
   "outputs": [],
   "source": [
    "11)Mention few inbuilt function in python?"
   ]
  },
  {
   "cell_type": "code",
   "execution_count": null,
   "id": "0b490b2b-79d4-4f3c-bdba-a5e3900b9a8a",
   "metadata": {},
   "outputs": [],
   "source": [
    "Python as a wide variety of inbuilt functions\n",
    "    print()->prints on console\n",
    "    input()->takes input \n",
    "    len()->gives the length \n",
    "    type()->gives the type of argument"
   ]
  },
  {
   "cell_type": "code",
   "execution_count": null,
   "id": "3fdbcc85-bbab-4e1f-b119-a8ee2a13a565",
   "metadata": {},
   "outputs": [],
   "source": [
    "12)Maximum length of identifier in python?"
   ]
  },
  {
   "cell_type": "code",
   "execution_count": null,
   "id": "edf19306-6b66-4b94-ba35-baa6700303e6",
   "metadata": {},
   "outputs": [],
   "source": [
    "79 characters"
   ]
  },
  {
   "cell_type": "code",
   "execution_count": null,
   "id": "c76c9d81-2204-449f-ae7d-b145a273d0e5",
   "metadata": {},
   "outputs": [],
   "source": [
    "13)What are benefits of using python?"
   ]
  },
  {
   "cell_type": "code",
   "execution_count": null,
   "id": "5401f692-6648-4cde-a974-65ee5898b7bf",
   "metadata": {},
   "outputs": [],
   "source": [
    "Benefits of python\n",
    "    Large developer community.\n",
    "    Python is one of the most popular programming languages in\n",
    "    the world.\n",
    "    Extensive libraries. \n",
    "    Python offers a wide range of libraries that can be used \n",
    "    across various applications.\n",
    "    Write less, do more.\n",
    "    Python has very concise syntax.\n",
    "    Portability. \n",
    "    Wide range of use cases."
   ]
  },
  {
   "cell_type": "code",
   "execution_count": null,
   "id": "ba645ab3-6587-4b92-b603-06c552432f0b",
   "metadata": {},
   "outputs": [],
   "source": [
    "14)how memory is managed in python?"
   ]
  },
  {
   "cell_type": "code",
   "execution_count": null,
   "id": "80faa906-2948-40d4-bc87-49984af78c13",
   "metadata": {},
   "outputs": [],
   "source": [
    "Memory management in Python involves a private heap containing \n",
    "all Python objects and data structures. The management of this\n",
    "private heap is ensured internally by the Python memory manager."
   ]
  },
  {
   "cell_type": "code",
   "execution_count": null,
   "id": "488e13ef-2e85-4121-9a0e-6f544725fe07",
   "metadata": {},
   "outputs": [],
   "source": [
    "15) How to install python on windows and set path variables?"
   ]
  },
  {
   "cell_type": "code",
   "execution_count": null,
   "id": "16d0e366-aba2-48cc-bd79-0ae6fea0bfb0",
   "metadata": {},
   "outputs": [],
   "source": [
    "Open a browser to the Python website and download the Windows \n",
    "installer.\n",
    "Double click on the downloaded file and install Python for all users,\n",
    "and ensure that Python is added to your path.\n",
    "After the installation is complete, click Disable path length \n",
    "limit and then Close.\n",
    "\n",
    "#Path variable\n",
    "Right-clicking This PC and going to Properties.\n",
    "Clicking on the Advanced system settings in the menu on the left.\n",
    "Clicking on the Environment Variables button o​n the bottom right.\n",
    "In the System variables section, selecting the Path \n",
    "variable and clicking on Edit. The next screen will \n",
    "show all the directories that are currently a part of \n",
    "the PATH variable.\n",
    "Clicking on New and entering Python’s install directory."
   ]
  },
  {
   "cell_type": "code",
   "execution_count": null,
   "id": "feff235d-459e-4714-bb78-9a525a8a7cb8",
   "metadata": {},
   "outputs": [],
   "source": [
    "16)Is indentation required in python?"
   ]
  },
  {
   "cell_type": "code",
   "execution_count": null,
   "id": "7dcbe87e-c84a-44c4-928a-ce47e72d2613",
   "metadata": {},
   "outputs": [],
   "source": [
    "Yes indentation in Python is very important.\n",
    "Python uses indentation to indicate a block of code."
   ]
  }
 ],
 "metadata": {
  "kernelspec": {
   "display_name": "Python 3 (ipykernel)",
   "language": "python",
   "name": "python3"
  },
  "language_info": {
   "codemirror_mode": {
    "name": "ipython",
    "version": 3
   },
   "file_extension": ".py",
   "mimetype": "text/x-python",
   "name": "python",
   "nbconvert_exporter": "python",
   "pygments_lexer": "ipython3",
   "version": "3.10.8"
  }
 },
 "nbformat": 4,
 "nbformat_minor": 5
}
